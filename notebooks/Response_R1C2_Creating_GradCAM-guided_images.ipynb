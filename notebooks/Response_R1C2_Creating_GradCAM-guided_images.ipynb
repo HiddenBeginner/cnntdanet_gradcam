{
 "cells": [
  {
   "cell_type": "code",
   "execution_count": 1,
   "metadata": {},
   "outputs": [],
   "source": [
    "dir_data = '../data/skin-cancer'\n",
    "dir_ckpt = './outputs/ckpt'\n",
    "dir_figure = './outputs/figures'\n",
    "dir_target = './outputs/gradcam_guided_images'\n",
    "\n",
    "seed = 0\n",
    "method = 'betti-curve'\n",
    "n_bins = 100\n",
    "\n",
    "input_shape = (28, 28, 1) \n",
    "n_classes = 7"
   ]
  },
  {
   "cell_type": "code",
   "execution_count": 2,
   "metadata": {},
   "outputs": [],
   "source": [
    "import sys\n",
    "\n",
    "sys.path.append('../')\n",
    "\n",
    "from cnntdanet.utils import seed_all\n",
    "from cnntdanet.tda import get_tda_pipeline\n",
    "from cnntdanet.gradcam import GradCAMOnCNN, GradCAMOnCNNTDANet\n",
    "\n",
    "import os\n",
    "import time\n",
    "import numpy as np\n",
    "import pandas as pd\n",
    "import tensorflow as tf\n",
    "import matplotlib.pyplot as plt\n"
   ]
  },
  {
   "cell_type": "code",
   "execution_count": 3,
   "metadata": {},
   "outputs": [],
   "source": [
    "seed_all(seed)"
   ]
  },
  {
   "cell_type": "markdown",
   "metadata": {},
   "source": [
    "## Loading dataset"
   ]
  },
  {
   "cell_type": "code",
   "execution_count": null,
   "metadata": {},
   "outputs": [],
   "source": [
    "# Preparing dataset\n",
    "df = pd.read_csv(os.path.join(dir_data, 'hmnist_28_28_L.csv'))\n",
    "\n",
    "X = df.drop('label', axis=1).values.reshape((-1, *input_shape))\n",
    "y = df['label'].values\n",
    "\n",
    "X = X.astype(np.float32)\n",
    "X /= 255.0\n",
    "\n",
    "y = y.astype(np.int64)\n",
    "\n",
    "## TDA features\n",
    "pipeline = get_tda_pipeline(method=method, n_bins=n_bins)\n",
    "\n",
    "X_tda = pipeline.fit_transform(X)\n",
    "X_tda = X_tda.astype(np.float32)"
   ]
  },
  {
   "cell_type": "markdown",
   "metadata": {},
   "source": [
    "## Loading model"
   ]
  },
  {
   "cell_type": "code",
   "execution_count": null,
   "metadata": {},
   "outputs": [],
   "source": [
    "cnn = tf.keras.models.load_model(os.path.join(dir_ckpt, 'hmnist_cnn_seed0'))\n",
    "cnn_tda = tf.keras.models.load_model(os.path.join(dir_ckpt, 'hmnist_cnn_tda_seed0'))\n",
    "\n",
    "gradcam_cnn = GradCAMOnCNN(cnn, layer_name='conv2d_3')\n",
    "gradcam_cnn_tda = GradCAMOnCNNTDANet(cnn_tda, local_layer_name='conv2d_13', global_layer_name='conv1d_8')"
   ]
  },
  {
   "cell_type": "markdown",
   "metadata": {},
   "source": [
    "## Creating GradCAM-guided images\n",
    "1. Compute GradCAM\n",
    "2. Get binarzied image.\n",
    "3. Multiply image with the binarized image"
   ]
  },
  {
   "cell_type": "code",
   "execution_count": null,
   "metadata": {},
   "outputs": [],
   "source": [
    "X_img_cnn = np.zeros_like(X)\n",
    "X_img_cnn_tda = np.zeros_like(X)\n",
    "\n",
    "start = time.time()\n",
    "for i, (img, tda, label) in enumerate(zip(X, X_tda, y)):\n",
    "    print(f\"[{i+1:>5}/{len(X):>5}] Elapsed time: {time.time() - start:.2f}\", end='\\r')\n",
    "    gradcam_cnn.to_heatmap(img)\n",
    "    heatmap_cnn = gradcam_cnn._cache['heatmap'][0] / 255.0\n",
    "    binarized_heatmap_cnn = (heatmap_cnn > 0.2).astype(float)\n",
    "    X_img_cnn[i] = img * binarized_heatmap_cnn\n",
    "\n",
    "    gradcam_cnn_tda.to_heatmap([img[np.newaxis], tda[np.newaxis]])\n",
    "    heatmap_cnn_tda = gradcam_cnn_tda._cache['heatmap'][0] / 255.0\n",
    "    binarized_heatmap_cnn_tda = (heatmap_cnn_tda > 0.2).astype(float)\n",
    "    X_img_cnn_tda[i] = img * binarized_heatmap_cnn_tda\n"
   ]
  },
  {
   "cell_type": "code",
   "execution_count": null,
   "metadata": {},
   "outputs": [],
   "source": [
    "np.save(os.path.join(dir_target, 'cnn3.npy'), X_img_cnn)\n",
    "np.save(os.path.join(dir_target, 'cnn_tda3.npy'), X_img_cnn_tda)"
   ]
  },
  {
   "cell_type": "code",
   "execution_count": null,
   "metadata": {},
   "outputs": [],
   "source": []
  }
 ],
 "metadata": {
  "kernelspec": {
   "display_name": "TensorFlow 2.8",
   "language": "python",
   "name": "tf28"
  },
  "language_info": {
   "codemirror_mode": {
    "name": "ipython",
    "version": 3
   },
   "file_extension": ".py",
   "mimetype": "text/x-python",
   "name": "python",
   "nbconvert_exporter": "python",
   "pygments_lexer": "ipython3",
   "version": "3.8.12"
  }
 },
 "nbformat": 4,
 "nbformat_minor": 5
}
