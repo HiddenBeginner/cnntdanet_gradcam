{
 "cells": [
  {
   "cell_type": "code",
   "execution_count": 1,
   "metadata": {},
   "outputs": [],
   "source": [
    "dir_data = '../data/skin-cancer'\n",
    "dir_target = './outputs/img_to_be_labeled'\n",
    "\n",
    "seed = 0\n",
    "input_shape = (28, 28, 1) \n",
    "n_classes = 7\n",
    "n_random_samples = 100"
   ]
  },
  {
   "cell_type": "code",
   "execution_count": 2,
   "metadata": {},
   "outputs": [],
   "source": [
    "import sys\n",
    "\n",
    "sys.path.append('../')\n",
    "\n",
    "from cnntdanet.utils import seed_all\n",
    "\n",
    "import os\n",
    "import json\n",
    "import labelme\n",
    "import numpy as np\n",
    "import pandas as pd\n",
    "import matplotlib.pyplot as plt\n",
    "\n",
    "from PIL import Image\n",
    "from glob import glob\n",
    "from sklearn.model_selection import train_test_split"
   ]
  },
  {
   "cell_type": "code",
   "execution_count": 3,
   "metadata": {},
   "outputs": [],
   "source": [
    "seed_all(seed)"
   ]
  },
  {
   "cell_type": "code",
   "execution_count": 4,
   "metadata": {},
   "outputs": [],
   "source": [
    "df = pd.read_csv(os.path.join(dir_data, 'hmnist_28_28_L.csv'))\n",
    "\n",
    "X = df.drop('label', axis=1).values.reshape((-1, *input_shape))\n",
    "y = df['label'].values\n",
    "\n",
    "X = X.astype(np.float32)\n",
    "X /= 255.0\n",
    "\n",
    "y = y.astype(np.int64)\n"
   ]
  },
  {
   "cell_type": "code",
   "execution_count": 5,
   "metadata": {
    "scrolled": true
   },
   "outputs": [],
   "source": [
    "# Generating samples to be labeled\n",
    "train_indices, test_indices = train_test_split(np.arange(len(X)), stratify=y, test_size=0.2, random_state=seed)\n",
    "\n",
    "X_train, y_train = X[train_indices], y[train_indices]  # Will not be used\n",
    "X_test, y_test = X[test_indices], y[test_indices]\n",
    "\n",
    "# Random sampling 'n_random_samples' samples\n",
    "indices = np.random.choice(test_indices, size=n_random_samples, replace=False)\n",
    "\n",
    "# Generate images\n",
    "if not os.path.exists(dir_target):\n",
    "    os.makedirs(dir_target)\n",
    "\n",
    "for idx in indices:\n",
    "    img = X[idx]\n",
    "    img = 255.0 * img\n",
    "    img = Image.fromarray(np.uint8(img[:, :, 0]), 'L')\n",
    "    img.save(f'./{dir_target}/{idx}_{y[idx]}.png')\n"
   ]
  },
  {
   "cell_type": "markdown",
   "metadata": {},
   "source": [
    "We used [LabelMe](https://github.com/wkentaro/labelme) for labeling segmentation mask. The following codes generate segmentation masks from json files created by LabelMe."
   ]
  },
  {
   "cell_type": "code",
   "execution_count": 6,
   "metadata": {},
   "outputs": [],
   "source": [
    "fpath_list = glob(os.path.join(dir_target, '*.json'))\n",
    "\n",
    "for fpath in fpath_list:\n",
    "    json_file = open(fpath)\n",
    "    json_data = json.load(json_file)\n",
    "    \n",
    "    mask = np.zeros((28, 28))\n",
    "    polygons = json_data.get('shapes')\n",
    "    for polygon in polygons:\n",
    "        _mask = labelme.utils.shape_to_mask(\n",
    "        (json_data['imageHeight'], json_data['imageWidth']), \n",
    "        polygon['points'], \n",
    "        shape_type=None, line_width = 1, point_size = 1\n",
    "    )\n",
    "        mask += _mask\n",
    "    \n",
    "    name = fpath.split('/')[-1]\n",
    "    name = name.split('.')[0]\n",
    "    np.save(os.path.join(dir_target, f'{name}.npy'), mask)"
   ]
  }
 ],
 "metadata": {
  "kernelspec": {
   "display_name": "TensorFlow 2.8",
   "language": "python",
   "name": "tf28"
  },
  "language_info": {
   "codemirror_mode": {
    "name": "ipython",
    "version": 3
   },
   "file_extension": ".py",
   "mimetype": "text/x-python",
   "name": "python",
   "nbconvert_exporter": "python",
   "pygments_lexer": "ipython3",
   "version": "3.8.12"
  }
 },
 "nbformat": 4,
 "nbformat_minor": 4
}
