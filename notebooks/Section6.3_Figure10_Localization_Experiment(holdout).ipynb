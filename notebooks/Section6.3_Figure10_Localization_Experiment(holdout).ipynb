{
 "cells": [
  {
   "cell_type": "code",
   "execution_count": 1,
   "metadata": {},
   "outputs": [],
   "source": [
    "dir_data = '../data/skin-cancer'\n",
    "dir_ckpt = './outputs/ckpt'\n",
    "dir_figure = './outputs/figures'\n",
    "dir_target = './outputs/img_to_be_labeled'\n",
    "\n",
    "seed = 0\n",
    "method = 'betti-curve'\n",
    "n_bins = 100\n",
    "thresholds = [0.05, 0.1, 0.2, 0.3, 0.4, 0.5]\n",
    "\n",
    "input_shape = (28, 28, 1) \n",
    "n_classes = 7\n",
    "n_random_samples = 100"
   ]
  },
  {
   "cell_type": "code",
   "execution_count": 2,
   "metadata": {},
   "outputs": [],
   "source": [
    "import sys\n",
    "\n",
    "sys.path.append('../')\n",
    "\n",
    "from cnntdanet.utils import seed_all\n",
    "from cnntdanet.tda import get_tda_pipeline\n",
    "from cnntdanet.gradcam import GradCAMOnCNN, GradCAMOnCNNTDANet\n",
    "\n",
    "import os\n",
    "import json\n",
    "import labelme\n",
    "import numpy as np\n",
    "import pandas as pd\n",
    "import tensorflow as tf\n",
    "import matplotlib.pyplot as plt\n",
    "\n",
    "from PIL import Image\n",
    "from glob import glob\n",
    "from sklearn.model_selection import train_test_split\n",
    "from sklearn.metrics import jaccard_score"
   ]
  },
  {
   "cell_type": "code",
   "execution_count": 3,
   "metadata": {},
   "outputs": [],
   "source": [
    "seed_all(seed)"
   ]
  },
  {
   "cell_type": "code",
   "execution_count": 4,
   "metadata": {},
   "outputs": [],
   "source": [
    "# Preparing dataset\n",
    "df = pd.read_csv(os.path.join(dir_data, 'hmnist_28_28_L.csv'))\n",
    "\n",
    "X = df.drop('label', axis=1).values.reshape((-1, *input_shape))\n",
    "y = df['label'].values\n",
    "\n",
    "X = X.astype(np.float32)\n",
    "X /= 255.0\n",
    "\n",
    "y = y.astype(np.int64)\n",
    "\n",
    "## TDA features\n",
    "pipeline = get_tda_pipeline(method=method, n_bins=n_bins)\n",
    "\n",
    "X_tda = pipeline.fit_transform(X)\n",
    "X_tda = X_tda.astype(np.float32)"
   ]
  },
  {
   "cell_type": "code",
   "execution_count": 5,
   "metadata": {},
   "outputs": [],
   "source": [
    "def iou(mask1, mask2):\n",
    "    intersection = (mask1 * mask2).sum()\n",
    "    if intersection == 0:\n",
    "        return 0.0\n",
    "    union = np.logical_or(mask1, mask2).sum()\n",
    "    return intersection / union"
   ]
  },
  {
   "cell_type": "code",
   "execution_count": 6,
   "metadata": {},
   "outputs": [
    {
     "name": "stderr",
     "output_type": "stream",
     "text": [
      "2022-10-31 17:31:44.027335: I tensorflow/stream_executor/cuda/cuda_gpu_executor.cc:936] successful NUMA node read from SysFS had negative value (-1), but there must be at least one NUMA node, so returning NUMA node zero\n"
     ]
    },
    {
     "name": "stdout",
     "output_type": "stream",
     "text": [
      "CNN localization:  [0.1742199  0.16251733 0.14631223 0.12961974 0.10755435 0.08640565]\n",
      "CNN-TDA Net localization:  [0.22256591 0.25218365 0.29454103 0.29155978 0.26125743 0.22047614]\n"
     ]
    }
   ],
   "source": [
    "cnn = tf.keras.models.load_model(os.path.join(dir_ckpt, 'hmnist_cnn_seed0'))\n",
    "cnn_tda = tf.keras.models.load_model(os.path.join(dir_ckpt, 'hmnist_cnn_tda_seed0'))\n",
    "\n",
    "gradcam_cnn = GradCAMOnCNN(cnn, layer_name='conv2d_3')\n",
    "gradcam_cnn_tda = GradCAMOnCNNTDANet(cnn_tda, local_layer_name='conv2d_8', global_layer_name='conv1d_8')\n",
    "\n",
    "\n",
    "results = {'cnn': [], 'cnn_tda': []}\n",
    "fpath_list = glob(os.path.join(dir_target, '*.npy'))\n",
    "for fpath in fpath_list:\n",
    "    name = fpath.split('/')[-1]\n",
    "    name = name.split('.')[0]\n",
    "    idx, label = name.split('_')\n",
    "    idx, label = map(int, [idx, label])\n",
    "    \n",
    "    img  = X[idx:idx+1]\n",
    "    tda  = X_tda[idx:idx+1]\n",
    "    mask = np.load(fpath)\n",
    "    mask = mask.astype(bool)\n",
    "    \n",
    "    gradcam_cnn_tda.to_heatmap([img, tda], true_label=label)\n",
    "    gradcam_cnn.to_heatmap(img, true_label=label)\n",
    "    \n",
    "    heatmap_cnn = gradcam_cnn._cache['heatmap'][0][:, :, 0] / 255.0\n",
    "    heatmap_cnn_tda = gradcam_cnn_tda._cache['heatmap'][0][:, :, 0] / 255.0\n",
    "    \n",
    "    scores_cnn = []\n",
    "    scores_cnn_tda = []\n",
    "    for threshold in thresholds:\n",
    "        mask_cnn = (heatmap_cnn > threshold).astype(bool)\n",
    "        mask_cnn_tda = (heatmap_cnn_tda > threshold).astype(bool)\n",
    "        \n",
    "        scores_cnn.append(iou(mask, mask_cnn))\n",
    "        scores_cnn_tda.append(iou(mask, mask_cnn_tda))\n",
    "\n",
    "    results['cnn'].append(scores_cnn)\n",
    "    results['cnn_tda'].append(scores_cnn_tda)\n",
    "    \n",
    "print('CNN localization: ', np.mean(results['cnn'], axis=0))\n",
    "print('CNN-TDA Net localization: ', np.mean(results['cnn_tda'], axis=0))"
   ]
  },
  {
   "cell_type": "markdown",
   "metadata": {},
   "source": [
    "Visualize the localization test."
   ]
  },
  {
   "cell_type": "code",
   "execution_count": 7,
   "metadata": {},
   "outputs": [
    {
     "data": {
      "image/png": "[encoded data removed]",
      "text/plain": [
       "<Figure size 432x324 with 1 Axes>"
      ]
     },
     "metadata": {
      "needs_background": "light"
     },
     "output_type": "display_data"
    }
   ],
   "source": [
    "plt.rcParams['font.size'] = 14\n",
    "plt.rcParams['font.family'] = 'serif'\n",
    "plt.rcParams['xtick.labelsize'] = 14\n",
    "plt.rcParams['ytick.labelsize'] = 14\n",
    "\n",
    "plt.figure(figsize=(6, 4.5))\n",
    "plt.plot(thresholds, np.mean(results['cnn'], axis=0), 'bo-', label='CNN-BC Net')\n",
    "plt.plot(thresholds, np.mean(results['cnn_tda'], axis=0), 'ro-', label='CNN')\n",
    "plt.grid()\n",
    "plt.legend(loc=1)\n",
    "plt.ylim(0.06, 0.36)\n",
    "plt.xlabel('Threshold')\n",
    "plt.ylabel('Average IoU', labelpad=10)\n",
    "plt.tight_layout()\n",
    "plt.savefig(os.path.join(dir_figure, 'iouplot.pdf'), dpi=200)\n",
    "plt.show()"
   ]
  },
  {
   "cell_type": "markdown",
   "metadata": {},
   "source": [
    "Visualize some samples"
   ]
  },
  {
   "cell_type": "code",
   "execution_count": 7,
   "metadata": {},
   "outputs": [
    {
     "name": "stderr",
     "output_type": "stream",
     "text": [
      "2022-11-09 17:49:15.624185: I tensorflow/stream_executor/cuda/cuda_gpu_executor.cc:936] successful NUMA node read from SysFS had negative value (-1), but there must be at least one NUMA node, so returning NUMA node zero\n"
     ]
    }
   ],
   "source": [
    "cnn = tf.keras.models.load_model(os.path.join(dir_ckpt, 'hmnist_cnn_seed0'))\n",
    "cnn_tda = tf.keras.models.load_model(os.path.join(dir_ckpt, 'hmnist_cnn_tda_seed0'))\n",
    "\n",
    "gradcam_cnn = GradCAMOnCNN(cnn, layer_name='conv2d_3')\n",
    "gradcam_cnn_tda = GradCAMOnCNNTDANet(cnn_tda, local_layer_name='conv2d_8', global_layer_name='conv1d_8')"
   ]
  },
  {
   "cell_type": "code",
   "execution_count": 11,
   "metadata": {},
   "outputs": [],
   "source": [
    "fpath_list = ['352_2', '2102_6', '4919_4', '5720_4']\n",
    "\n",
    "for fpath in fpath_list:\n",
    "    idx, label = fpath.split('_')\n",
    "    idx, label = map(int, [idx, label])\n",
    "\n",
    "    img = X[idx:idx+1]\n",
    "    tda  = X_tda[idx:idx+1]\n",
    "    mask = np.load(os.path.join(dir_target, fpath + '.npy'))\n",
    "    mask_ = np.ma.masked_where(mask == 0, mask)\n",
    "        \n",
    "    gradcam_cnn_tda.to_heatmap([img, tda], target_label=label, true_label=label)\n",
    "    gradcam_cnn.to_heatmap(img, target_label=label, true_label=label)\n",
    "    \n",
    "    heatmap_cnn = gradcam_cnn._cache['heatmap'][0][:, :, 0] / 255.0\n",
    "    heatmap_cnn_tda = gradcam_cnn_tda._cache['heatmap'][0][:, :, 0] / 255.0\n",
    "    \n",
    "    mask_cnn = (heatmap_cnn > 0.2).astype(bool)\n",
    "    mask_cnn_tda = (heatmap_cnn_tda > 0.2).astype(bool)\n",
    "\n",
    "    ### Image\n",
    "    fig = plt.figure(figsize=(4, 4), frameon=False)\n",
    "    \n",
    "    ax = plt.Axes(fig, [0., 0., 1., 1.])\n",
    "    fig.set_size_inches(4, 4)\n",
    "    ax.imshow(img[0, :, :, 0], cmap='gray')\n",
    "    ax.set_axis_off()\n",
    "    fig.add_axes(ax)\n",
    "    plt.savefig(os.path.join(dir_figure, f'{idx}_img.png'), dpi=100)\n",
    "    \n",
    "    plt.cla()\n",
    "    plt.clf()\n",
    "    plt.close()\n",
    "    \n",
    "    ### Mask\n",
    "    fig = plt.figure(figsize=(4, 4), frameon=False)\n",
    "    \n",
    "    ax = plt.Axes(fig, [0., 0., 1., 1.])\n",
    "    fig.set_size_inches(4, 4)\n",
    "    ax.imshow(255.0 * mask, cmap='bone')\n",
    "    ax.set_axis_off()\n",
    "    fig.add_axes(ax)\n",
    "    plt.savefig(os.path.join(dir_figure, f'{idx}_mask.png'), dpi=100)\n",
    "    \n",
    "    plt.cla()\n",
    "    plt.clf()\n",
    "    plt.close()\n",
    "    \n",
    "    ### Image with mask\n",
    "    fig = plt.figure(figsize=(4, 4), frameon=False)\n",
    "    \n",
    "    ax = plt.Axes(fig, [0., 0., 1., 1.])\n",
    "    fig.set_size_inches(4, 4)\n",
    "    ax.imshow(img[0, :, :, 0], cmap='gray')\n",
    "    ax.imshow(mask_, alpha=0.4, cmap='jet')\n",
    "    ax.set_axis_off()\n",
    "    fig.add_axes(ax)\n",
    "    plt.savefig(os.path.join(dir_figure, f'{idx}_img_mask.png'), dpi=100)\n",
    "    \n",
    "    plt.cla()\n",
    "    plt.clf()\n",
    "    plt.close()\n",
    "    \n",
    "    ### CNN Grad-CAM mask\n",
    "    fig = plt.figure(figsize=(4, 4), frameon=False)\n",
    "    \n",
    "    ax = plt.Axes(fig, [0., 0., 1., 1.])\n",
    "    fig.set_size_inches(4, 4)\n",
    "    ax.imshow(255.0 * mask_cnn, cmap='bone')\n",
    "    ax.set_axis_off()\n",
    "    fig.add_axes(ax)\n",
    "    plt.savefig(os.path.join(dir_figure, f'{idx}_cnn_mask.png'), dpi=100)\n",
    "    \n",
    "    plt.cla()\n",
    "    plt.clf()\n",
    "    plt.close()\n",
    "    \n",
    "    ### CNN-BC Net Grad-CAM mask\n",
    "    fig = plt.figure(figsize=(4, 4), frameon=False)\n",
    "    \n",
    "    ax = plt.Axes(fig, [0., 0., 1., 1.])\n",
    "    fig.set_size_inches(4, 4)\n",
    "    ax.imshow(255.0 * mask_cnn_tda, cmap='bone')\n",
    "    ax.set_axis_off()\n",
    "    fig.add_axes(ax)\n",
    "    plt.savefig(os.path.join(dir_figure, f'{idx}_cnn_tda_mask.png'), dpi=100)\n",
    "\n",
    "    plt.cla()\n",
    "    plt.clf()\n",
    "    plt.close()"
   ]
  },
  {
   "cell_type": "code",
   "execution_count": null,
   "metadata": {},
   "outputs": [],
   "source": []
  }
 ],
 "metadata": {
  "kernelspec": {
   "display_name": "TensorFlow 2.8",
   "language": "python",
   "name": "tf28"
  },
  "language_info": {
   "codemirror_mode": {
    "name": "ipython",
    "version": 3
   },
   "file_extension": ".py",
   "mimetype": "text/x-python",
   "name": "python",
   "nbconvert_exporter": "python",
   "pygments_lexer": "ipython3",
   "version": "3.8.12"
  }
 },
 "nbformat": 4,
 "nbformat_minor": 5
}
