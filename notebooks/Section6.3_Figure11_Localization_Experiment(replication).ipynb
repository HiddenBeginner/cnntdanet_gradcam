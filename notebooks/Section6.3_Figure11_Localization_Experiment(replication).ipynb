{
 "cells": [
  {
   "cell_type": "code",
   "execution_count": 1,
   "metadata": {},
   "outputs": [],
   "source": [
    "dir_data = '../data/skin-cancer'\n",
    "dir_ckpt = './outputs/ckpt'\n",
    "dir_figure = './outputs/figures'\n",
    "dir_target = './outputs/img_to_be_labeled'\n",
    "\n",
    "num_seeds = 30\n",
    "method = 'betti-curve'\n",
    "n_bins = 100\n",
    "thresholds = [0.05, 0.1, 0.2, 0.3, 0.4, 0.5]\n",
    "\n",
    "input_shape = {'img': (28, 28, 1), 'tda': (n_bins, 2)}\n",
    "n_classes = 7\n"
   ]
  },
  {
   "cell_type": "code",
   "execution_count": 2,
   "metadata": {},
   "outputs": [],
   "source": [
    "import sys\n",
    "\n",
    "sys.path.append('../')\n",
    "\n",
    "from cnntdanet.utils import seed_all\n",
    "from cnntdanet.tda import get_tda_pipeline\n",
    "from cnntdanet.models import get_cnn_net, get_cnn_tda_net\n",
    "from cnntdanet.gradcam import GradCAMOnCNN, GradCAMOnCNNTDANet\n",
    "\n",
    "import os\n",
    "import gc\n",
    "import json\n",
    "import labelme\n",
    "import numpy as np\n",
    "import pandas as pd\n",
    "import tensorflow as tf\n",
    "import matplotlib.pyplot as plt\n",
    "import seaborn as sns\n",
    "\n",
    "from PIL import Image\n",
    "from glob import glob\n",
    "from sklearn.model_selection import train_test_split\n",
    "from sklearn.metrics import jaccard_score"
   ]
  },
  {
   "cell_type": "code",
   "execution_count": 3,
   "metadata": {},
   "outputs": [
    {
     "name": "stdout",
     "output_type": "stream",
     "text": [
      "[112, 118, 240, 295, 352, 431, 450, 493, 762, 1264, 1356, 1448, 1584, 1652, 1820, 1842, 1986, 2053, 2086, 2087, 2102, 2136, 2173, 2333, 2536, 2545, 2776, 2786, 2937, 3149, 3238, 3273, 3620, 3632, 3732, 3794, 3945, 4069, 4121, 4584, 4705, 4783, 4919, 4923, 5144, 5282, 5306, 5399, 5624, 5648, 5716, 5720, 5977, 5990, 6064, 6081, 6365, 6506, 6693, 6782, 6787, 6791, 6808, 6839, 6914, 7054, 7313, 7417, 7426, 7432, 7630, 7787, 7870, 7911, 8057, 8126, 8172, 8176, 8498, 8499, 8685, 8757, 8807, 8920, 8991, 8996, 9185, 9189, 9198, 9375, 9408, 9470, 9571, 9627, 9696, 9804, 9859, 9954, 9991, 10002]\n"
     ]
    }
   ],
   "source": [
    "test_indices = os.listdir(dir_target)\n",
    "test_indices = set(map(lambda x: int(x.split('_')[0]), test_indices))\n",
    "test_indices = list(test_indices)\n",
    "test_indices = sorted(test_indices)\n",
    "print(test_indices)"
   ]
  },
  {
   "cell_type": "code",
   "execution_count": 4,
   "metadata": {},
   "outputs": [],
   "source": [
    "# Preparing dataset\n",
    "df = pd.read_csv(os.path.join(dir_data, 'hmnist_28_28_L.csv'))\n",
    "\n",
    "X = df.drop('label', axis=1).values.reshape((-1, *input_shape['img']))\n",
    "y = df['label'].values\n",
    "\n",
    "X = X.astype(np.float32)\n",
    "X /= 255.0\n",
    "\n",
    "y = y.astype(np.int64)\n",
    "y = tf.keras.utils.to_categorical(y, n_classes)\n",
    "\n",
    "## TDA features\n",
    "pipeline = get_tda_pipeline(method=method, n_bins=n_bins)\n",
    "\n",
    "X_tda = pipeline.fit_transform(X)\n",
    "X_tda = X_tda.astype(np.float32)"
   ]
  },
  {
   "cell_type": "code",
   "execution_count": 5,
   "metadata": {},
   "outputs": [],
   "source": [
    "# Splitting data\n",
    "train_indices = np.setdiff1d(np.arange(len(X)), test_indices)"
   ]
  },
  {
   "cell_type": "code",
   "execution_count": 6,
   "metadata": {},
   "outputs": [],
   "source": [
    "def iou(mask1, mask2):\n",
    "    intersection = (mask1 * mask2).sum()\n",
    "    if intersection == 0:\n",
    "        return 0.0\n",
    "    union = np.logical_or(mask1, mask2).sum()\n",
    "    return intersection / union"
   ]
  },
  {
   "cell_type": "code",
   "execution_count": 7,
   "metadata": {},
   "outputs": [
    {
     "name": "stderr",
     "output_type": "stream",
     "text": [
      "2022-11-01 13:44:04.917677: I tensorflow/stream_executor/cuda/cuda_gpu_executor.cc:936] successful NUMA node read from SysFS had negative value (-1), but there must be at least one NUMA node, so returning NUMA node zero\n"
     ]
    },
    {
     "name": "stdout",
     "output_type": "stream",
     "text": [
      "CNN localization:  [0.1943079  0.18319426 0.1658102  0.14358649 0.11628947 0.09393286]\n",
      "CNN-TDA Net localization:  [0.23887543 0.251468   0.25929819 0.24253394 0.21105443 0.17880733]\n"
     ]
    }
   ],
   "source": [
    "results = {'cnn': [], 'cnn_tda': []}\n",
    "for seed in range(num_seeds):\n",
    "    # Set seed\n",
    "    seed_all(seed)\n",
    "    \n",
    "    np.random.shuffle(train_indices)\n",
    "    np.random.shuffle(test_indices)\n",
    "\n",
    "    X_img_train, X_tda_train, y_train = X[train_indices], X_tda[train_indices], y[train_indices]\n",
    "    X_img_test,  X_tda_test,  y_test  = X[test_indices],  X_tda[test_indices],  y[test_indices]\n",
    "\n",
    "    # Train CNN\n",
    "    cnn = get_cnn_net(input_shape=input_shape['img'], n_classes=n_classes)\n",
    "    cnn.compile(optimizer='adam', loss='categorical_crossentropy', metrics=['acc'])\n",
    "    cnn.fit(\n",
    "        X_img_train, y_train,\n",
    "        validation_split=0.2,\n",
    "        callbacks=[tf.keras.callbacks.EarlyStopping(patience=10, restore_best_weights=True)],\n",
    "        epochs=20,\n",
    "        verbose=False\n",
    "    )\n",
    "\n",
    "    # Train CNN-TDA Net\n",
    "    cnn_tda = get_cnn_tda_net(method=method, input_shape=input_shape, n_classes=n_classes)\n",
    "    cnn_tda.compile(optimizer='adam', loss='categorical_crossentropy', metrics=['acc'])\n",
    "    cnn_tda.fit(\n",
    "        [X_img_train, X_tda_train], y_train,\n",
    "        validation_split=0.2,\n",
    "        callbacks=[tf.keras.callbacks.EarlyStopping(patience=10, restore_best_weights=True)],\n",
    "        epochs=20,\n",
    "        verbose=False\n",
    "    )\n",
    "\n",
    "    # Grad-CAM analysis\n",
    "    gradcam_cnn = GradCAMOnCNN(cnn, layer_name='conv2d_3')\n",
    "    gradcam_cnn_tda = GradCAMOnCNNTDANet(cnn_tda, local_layer_name='conv2d_8', global_layer_name='conv1d_8')\n",
    "\n",
    "    fpath_list = glob(os.path.join(dir_target, '*.npy'))\n",
    "    for fpath in fpath_list:\n",
    "        name = fpath.split('/')[-1]\n",
    "        name = name.split('.')[0]\n",
    "        idx, label = name.split('_')\n",
    "        idx, label = map(int, [idx, label])\n",
    "\n",
    "        img  = X[idx:idx+1]\n",
    "        tda  = X_tda[idx:idx+1]\n",
    "        mask = np.load(fpath)\n",
    "        mask = mask.astype(bool)\n",
    "\n",
    "        gradcam_cnn_tda.to_heatmap([img, tda], true_label=label)\n",
    "        gradcam_cnn.to_heatmap(img, true_label=label)\n",
    "\n",
    "        heatmap_cnn = gradcam_cnn._cache['heatmap'][0][:, :, 0] / 255.0\n",
    "        heatmap_cnn_tda = gradcam_cnn_tda._cache['heatmap'][0][:, :, 0] / 255.0\n",
    "\n",
    "        scores_cnn = []\n",
    "        scores_cnn_tda = []\n",
    "        for threshold in thresholds:\n",
    "            mask_cnn = (heatmap_cnn > threshold).astype(bool)\n",
    "            mask_cnn_tda = (heatmap_cnn_tda > threshold).astype(bool)\n",
    "\n",
    "            scores_cnn.append(iou(mask, mask_cnn))\n",
    "            scores_cnn_tda.append(iou(mask, mask_cnn_tda))\n",
    "\n",
    "        results['cnn'].append(scores_cnn)\n",
    "        results['cnn_tda'].append(scores_cnn_tda)\n",
    "\n",
    "        tf.keras.backend.clear_session()\n",
    "        gc.collect()\n",
    "print('CNN localization: ', np.mean(results['cnn'], axis=0))\n",
    "print('CNN-TDA Net localization: ', np.mean(results['cnn_tda'], axis=0))"
   ]
  },
  {
   "cell_type": "code",
   "execution_count": 8,
   "metadata": {},
   "outputs": [],
   "source": [
    "index = np.repeat(thresholds, [3000, 3000, 3000, 3000, 3000, 3000]).reshape((-1, 1))\n",
    "result_cnn = np.array(results['cnn']).T.reshape((-1, 1))\n",
    "result_cnn_tda =  np.array(results['cnn_tda']).T.reshape((-1, 1))\n",
    "ret = pd.DataFrame(np.concatenate((index, result_cnn, result_cnn_tda), axis=1))\n",
    "ret.columns = ['threshold', 'cnn', 'cnn_tda']"
   ]
  },
  {
   "cell_type": "code",
   "execution_count": 10,
   "metadata": {},
   "outputs": [
    {
     "data": {
      "image/png": "[encoded data removed]",
      "text/plain": [
       "<Figure size 432x324 with 1 Axes>"
      ]
     },
     "metadata": {
      "needs_background": "light"
     },
     "output_type": "display_data"
    }
   ],
   "source": [
    "plt.rcParams['font.size'] = 14\n",
    "plt.rcParams['font.family'] = 'serif'\n",
    "plt.rcParams['xtick.labelsize'] = 14\n",
    "plt.rcParams['ytick.labelsize'] = 14\n",
    "\n",
    "plt.figure(figsize=(6, 4.5))\n",
    "sns.lineplot(data=ret, x='threshold', y='cnn', markers=True, linewidth=2.5, err_style=\"bars\", color='blue', label='CNN')\n",
    "sns.lineplot(data=ret, x='threshold', y='cnn_tda', markers=True, linewidth=2.5, err_style=\"bars\", color='red', label='CNN-BS Net')\n",
    "plt.grid()\n",
    "plt.legend(loc=1)\n",
    "plt.ylim(0.08, 0.30)\n",
    "plt.xlabel('Threshold')\n",
    "plt.ylabel('Average IoU', labelpad=10)\n",
    "plt.tight_layout()\n",
    "plt.savefig(os.path.join(dir_figure, 'iouplot.pdf'), dpi=200)\n",
    "plt.show()"
   ]
  },
  {
   "cell_type": "code",
   "execution_count": null,
   "metadata": {},
   "outputs": [],
   "source": []
  }
 ],
 "metadata": {
  "kernelspec": {
   "display_name": "TensorFlow 2.8",
   "language": "python",
   "name": "tf28"
  },
  "language_info": {
   "codemirror_mode": {
    "name": "ipython",
    "version": 3
   },
   "file_extension": ".py",
   "mimetype": "text/x-python",
   "name": "python",
   "nbconvert_exporter": "python",
   "pygments_lexer": "ipython3",
   "version": "3.8.12"
  }
 },
 "nbformat": 4,
 "nbformat_minor": 5
}
