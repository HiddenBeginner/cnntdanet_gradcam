{
 "cells": [
  {
   "cell_type": "code",
   "execution_count": 1,
   "metadata": {},
   "outputs": [],
   "source": [
    "dir_meta = '../data/skin-cancer'\n",
    "dir_data = './outputs/gradcam_guided_images'\n",
    "dir_ckpt = './outputs/ckpt'\n",
    "\n",
    "n_seeds = 15\n",
    "n_classes = 7\n",
    "input_shape = (28, 28, 1)\n",
    "\n",
    "epochs = 10"
   ]
  },
  {
   "cell_type": "code",
   "execution_count": 2,
   "metadata": {},
   "outputs": [],
   "source": [
    "import sys\n",
    "sys.path.append('../')\n",
    "\n",
    "from cnntdanet.utils import seed_all\n",
    "from cnntdanet.models import get_cnn_net\n",
    "from cnntdanet.utils.plotting import plot_learning_curve\n",
    "\n",
    "import os\n",
    "import numpy as np\n",
    "import pandas as pd\n",
    "import tensorflow as tf\n",
    "import matplotlib.pyplot as plt\n",
    "\n",
    "from tensorflow import keras\n",
    "from sklearn.model_selection import train_test_split\n",
    "from sklearn.metrics import accuracy_score, recall_score, precision_score, f1_score"
   ]
  },
  {
   "cell_type": "code",
   "execution_count": 3,
   "metadata": {},
   "outputs": [],
   "source": [
    "def get_2d_cnn(input_shape, n_classes, name='img_network'):\n",
    "    cnn = keras.models.Sequential([\n",
    "        keras.layers.Conv2D(16, 3, activation=\"relu\", padding='same', input_shape=input_shape),\n",
    "        keras.layers.Conv2D(16, 3, activation=\"relu\", padding='same'),\n",
    "        keras.layers.AveragePooling2D(2),\n",
    "        keras.layers.Conv2D(32, 3, activation=\"relu\", padding='same'),\n",
    "        keras.layers.MaxPooling2D(2),\n",
    "        keras.layers.Dropout(0.3),\n",
    "        keras.layers.Conv2D(64, 3, activation=\"relu\", padding='same'),\n",
    "        keras.layers.MaxPooling2D(2),\n",
    "        keras.layers.Dropout(0.3),\n",
    "        keras.layers.Conv2D(128, 3, activation=\"relu\", padding='same'),\n",
    "        keras.layers.MaxPooling2D(2),\n",
    "        keras.layers.Flatten(),\n",
    "        keras.layers.Dense(7, activation='softmax')\n",
    "    ], name=name)\n",
    "\n",
    "    return cnn\n"
   ]
  },
  {
   "cell_type": "code",
   "execution_count": 4,
   "metadata": {
    "scrolled": true
   },
   "outputs": [
    {
     "name": "stderr",
     "output_type": "stream",
     "text": [
      "2023-05-12 19:30:06.051717: I tensorflow/core/platform/cpu_feature_guard.cc:151] This TensorFlow binary is optimized with oneAPI Deep Neural Network Library (oneDNN) to use the following CPU instructions in performance-critical operations:  AVX2 FMA\n",
      "To enable them in other operations, rebuild TensorFlow with the appropriate compiler flags.\n"
     ]
    }
   ],
   "source": [
    "df = pd.read_csv(os.path.join(dir_meta, 'hmnist_28_28_L.csv'))\n",
    "y = df['label'].values.astype(np.int64)\n",
    "y_ = y.copy()\n",
    "y = tf.keras.utils.to_categorical(y_, n_classes)\n",
    "\n",
    "result_cnn = []\n",
    "result_cnn_tda = []\n",
    "for seed in range(n_seeds):\n",
    "    # Splitting data\n",
    "    train_indices, valid_indices = train_test_split(np.arange(len(y)), stratify=y_, test_size=0.2, random_state=seed)\n",
    "    \n",
    "    # Data preparation\n",
    "    X = np.load(os.path.join(dir_data, 'cnn.npy')) \n",
    "    X_train, y_train = X[train_indices], y[train_indices]\n",
    "    X_valid, y_valid = X[valid_indices], y[valid_indices]\n",
    "    \n",
    "    seed_all(seed)\n",
    "    cnn = get_2d_cnn(input_shape=input_shape, n_classes=n_classes)\n",
    "    cnn.compile(optimizer='adam', loss='categorical_crossentropy', metrics=['acc'])\n",
    "    history = cnn.fit(\n",
    "        X_train, y_train,\n",
    "        validation_split=0.2,\n",
    "        epochs=epochs,\n",
    "        verbose=False\n",
    "    )\n",
    "    y_true = np.argmax(y_valid, axis=1) # From one-hot encoding to label\n",
    "    y_pred = cnn.predict(X_valid)  # Make predictions\n",
    "    y_pred = np.argmax(y_pred, axis=1)  # Take the maximum probability for each prediction\n",
    "    result_cnn.append([\n",
    "        accuracy_score(y_true, y_pred),\n",
    "        recall_score(y_true, y_pred, average='macro'),\n",
    "        precision_score(y_true, y_pred, average='weighted', zero_division=0),\n",
    "        f1_score(y_true, y_pred, average='weighted', zero_division=0)\n",
    "    ])\n",
    "    ###########################################################################################################\n",
    "    # Data preparation\n",
    "    X = np.load(os.path.join(dir_data, 'cnn_tda.npy')) \n",
    "    X_train, y_train = X[train_indices], y[train_indices]\n",
    "    X_valid, y_valid = X[valid_indices], y[valid_indices]\n",
    "    \n",
    "    seed_all(seed)\n",
    "    cnn = get_2d_cnn(input_shape=input_shape, n_classes=n_classes)\n",
    "    cnn.compile(optimizer='adam', loss='categorical_crossentropy', metrics=['acc'])\n",
    "    history = cnn.fit(\n",
    "        X_train, y_train,\n",
    "        validation_split=0.2,\n",
    "        epochs=epochs,\n",
    "        verbose=False\n",
    "    )\n",
    "    y_true = np.argmax(y_valid, axis=1) # From one-hot encoding to label\n",
    "    y_pred = cnn.predict(X_valid)  # Make predictions\n",
    "    y_pred = np.argmax(y_pred, axis=1)  # Take the maximum probability for each prediction\n",
    "    result_cnn_tda.append([\n",
    "        accuracy_score(y_true, y_pred),\n",
    "        recall_score(y_true, y_pred, average='macro'),\n",
    "        precision_score(y_true, y_pred, average='weighted', zero_division=0),\n",
    "        f1_score(y_true, y_pred, average='weighted', zero_division=0)\n",
    "    ])"
   ]
  },
  {
   "cell_type": "code",
   "execution_count": 5,
   "metadata": {},
   "outputs": [
    {
     "data": {
      "text/plain": [
       "array([0.70870361, 0.2570574 , 0.64409733, 0.65691026])"
      ]
     },
     "execution_count": 5,
     "metadata": {},
     "output_type": "execute_result"
    }
   ],
   "source": [
    "np.array(result_cnn).mean(axis=0)"
   ]
  },
  {
   "cell_type": "code",
   "execution_count": 6,
   "metadata": {},
   "outputs": [
    {
     "data": {
      "text/plain": [
       "array([0.7027126 , 0.24582475, 0.64004072, 0.64281327])"
      ]
     },
     "execution_count": 6,
     "metadata": {},
     "output_type": "execute_result"
    }
   ],
   "source": [
    "np.array(result_cnn_tda).mean(axis=0)"
   ]
  },
  {
   "cell_type": "code",
   "execution_count": null,
   "metadata": {},
   "outputs": [],
   "source": []
  }
 ],
 "metadata": {
  "kernelspec": {
   "display_name": "TensorFlow 2.8",
   "language": "python",
   "name": "tf28"
  },
  "language_info": {
   "codemirror_mode": {
    "name": "ipython",
    "version": 3
   },
   "file_extension": ".py",
   "mimetype": "text/x-python",
   "name": "python",
   "nbconvert_exporter": "python",
   "pygments_lexer": "ipython3",
   "version": "3.8.12"
  }
 },
 "nbformat": 4,
 "nbformat_minor": 4
}
